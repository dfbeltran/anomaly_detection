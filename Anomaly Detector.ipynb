{
 "cells": [
  {
   "cell_type": "code",
   "execution_count": 175,
   "metadata": {},
   "outputs": [],
   "source": [
    "from bs4 import BeautifulSoup\n",
    "import urllib\n",
    "import requests\n",
    "import os \n",
    "import pandas as pd"
   ]
  },
  {
   "cell_type": "code",
   "execution_count": 90,
   "metadata": {},
   "outputs": [
    {
     "name": "stdout",
     "output_type": "stream",
     "text": [
      "https://data.birmingham.gov.uk/dataset/cf552d08-cee9-43bf-8c0f-3196a9311799/resource/b4a15ade-11b1-4c98-88a0-8cd8408212ac/download/purchasecardtransactionsapril2014.xls \n",
      " https://data.birmingham.gov.uk/dataset/cf552d08-cee9-43bf-8c0f-3196a9311799/resource/200906b7-366c-441c-9071-ec9ab086e193/download/cusersfinainmndesktoppublish-spend-january-2018.xls\n"
     ]
    }
   ],
   "source": [
    "url_request = requests.get(url)\n",
    "assert status.status_code == 200\n",
    "src = BeautifulSoup(url_request.content)\n",
    "\n",
    "all_list = src.find_all('a', \"resource-url-analytics\")\n",
    "condition_1 = tag['href'].find('.xls')\n",
    "condition_2 = tag['href'].find('.csv')\n",
    "all_xls = [tag['href'] for tag in all_list if condition_1 != -1 or condition_2 != -1]\n",
    "print(all_xls[0],'\\n',all_xls[-1])"
   ]
  },
  {
   "cell_type": "code",
   "execution_count": 108,
   "metadata": {},
   "outputs": [],
   "source": [
    "from datetime import datetime, timedelta\n",
    "\n",
    "dates = [\"2014-04-01\", \"2018-01-30\"]\n",
    "def monthYear(dates):\n",
    "    mlist = []\n",
    "    total_months = lambda dt: dt.month + 12 * dt.year\n",
    "    for tot_m in range(total_months(start)-1, total_months(end)):\n",
    "        y, m = divmod(tot_m, 12)\n",
    "        mlist.append(datetime(y, m+1, 1).strftime(\"%Y-%m\"))\n",
    "    return mlist\n",
    "\n",
    "names_xls = monthYear(dates)\n",
    "names_xls.remove('2015-04')\n",
    "assert len(names_xls) == len(all_xls)"
   ]
  },
  {
   "cell_type": "code",
   "execution_count": 109,
   "metadata": {},
   "outputs": [],
   "source": [
    "for i, url_xls in enumerate(all_xls):\n",
    "    file_format = url_xls[url_xls.rfind('.'):]\n",
    "    save_name = \"./data/\" + names_xls[i] + file_format\n",
    "    if file_format = '.csv':\n",
    "        response = urllib.request.urlopen(temp)\n",
    "        csv = response.read()\n",
    "        with open('temp.csv', 'wb') as f:\n",
    "            f.write(csv)\n",
    "    else:\n",
    "        urllib.request.urlretrieve(dls, save_name)"
   ]
  },
  {
   "cell_type": "code",
   "execution_count": 177,
   "metadata": {
    "scrolled": true
   },
   "outputs": [],
   "source": [
    "def get_dataset(data_path='./data/'):\n",
    "    final_df = pd.DataFrame()\n",
    "    local_list_xls = os.listdir(data_path) \n",
    "    for file in local_list_xls:\n",
    "        if file.endswith('xls'):\n",
    "            temp_df = pd.read_excel(data_path + file)\n",
    "        if file.endswith('csv'):\n",
    "            temp_df = pd.read_csv(data_path + file, sep=',')\n",
    "        final_df = pd.concat([final_df, temp_df], axis=0, sort=True)\n",
    "    return final_df"
   ]
  },
  {
   "cell_type": "code",
   "execution_count": 178,
   "metadata": {},
   "outputs": [],
   "source": [
    "df = get_dataset()"
   ]
  },
  {
   "cell_type": "code",
   "execution_count": null,
   "metadata": {},
   "outputs": [],
   "source": []
  }
 ],
 "metadata": {
  "kernelspec": {
   "display_name": "Python 3",
   "language": "python",
   "name": "python3"
  },
  "language_info": {
   "codemirror_mode": {
    "name": "ipython",
    "version": 3
   },
   "file_extension": ".py",
   "mimetype": "text/x-python",
   "name": "python",
   "nbconvert_exporter": "python",
   "pygments_lexer": "ipython3",
   "version": "3.7.4"
  }
 },
 "nbformat": 4,
 "nbformat_minor": 2
}
